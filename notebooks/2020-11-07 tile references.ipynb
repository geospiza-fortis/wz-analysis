{
 "cells": [
  {
   "cell_type": "code",
   "execution_count": 29,
   "metadata": {
    "collapsed": true
   },
   "outputs": [],
   "source": [
    "from pyspark.sql import functions as F, SparkSession\n",
    "import functools\n",
    "import json"
   ]
  },
  {
   "cell_type": "code",
   "execution_count": 10,
   "metadata": {
    "collapsed": true
   },
   "outputs": [],
   "source": [
    "spark = SparkSession.builder.getOrCreate()\n",
    "wzpath = \"../../wzedits/dumps\"\n",
    "df = spark.read.json(f\"{wzpath}/Map.wz/Map/*/*.json\", multiLine=True)"
   ]
  },
  {
   "cell_type": "code",
   "execution_count": 11,
   "metadata": {},
   "outputs": [
    {
     "data": {
      "text/plain": [
       "176"
      ]
     },
     "execution_count": 11,
     "metadata": {},
     "output_type": "execute_result"
    }
   ],
   "source": [
    "df.count()"
   ]
  },
  {
   "cell_type": "markdown",
   "metadata": {},
   "source": [
    "* https://github.com/johncintron/nodin/blob/master/docs/map.md\n",
    "* https://github.com/johncintron/nodin/blob/master/docs/tile.md"
   ]
  },
  {
   "cell_type": "code",
   "execution_count": 9,
   "metadata": {},
   "outputs": [
    {
     "data": {
      "text/plain": [
       "DataFrame[tile: array<struct<index:bigint,item:struct<no:bigint,u:string,x:bigint,y:bigint,zM:bigint>>>]"
      ]
     },
     "execution_count": 9,
     "metadata": {},
     "output_type": "execute_result"
    }
   ],
   "source": [
    "df.select(\"payload.0.tile\")"
   ]
  },
  {
   "cell_type": "code",
   "execution_count": 34,
   "metadata": {
    "collapsed": true
   },
   "outputs": [],
   "source": [
    "info = (\n",
    "    functools.reduce(\n",
    "        lambda a, b: a.union(b), \n",
    "        [df.select(f\"payload.{i}.info\") for i in range(8)]\n",
    "    )\n",
    "    .where(\"info <> '[]'\")\n",
    ")"
   ]
  },
  {
   "cell_type": "code",
   "execution_count": 44,
   "metadata": {},
   "outputs": [
    {
     "name": "stdout",
     "output_type": "stream",
     "text": [
      "+-----------------------------------+---+\n",
      "|                               info|len|\n",
      "+-----------------------------------+---+\n",
      "|{\"tS\":\"greenCrystalCave\",\"tSMag\":1}| 35|\n",
      "|{\"tS\":\"greenCrystalCave\",\"tSMag\":1}| 35|\n",
      "|{\"tS\":\"greenCrystalCave\",\"tSMag\":1}| 35|\n",
      "|{\"tS\":\"greenCrystalCave\",\"tSMag\":1}| 35|\n",
      "|{\"tS\":\"greenCrystalCave\",\"tSMag\":1}| 35|\n",
      "+-----------------------------------+---+\n",
      "only showing top 5 rows\n",
      "\n"
     ]
    }
   ],
   "source": [
    "info.withColumn(\"len\", F.length(\"info\")).orderBy(F.desc(\"len\")).show(truncate=80, n=5)"
   ]
  },
  {
   "cell_type": "code",
   "execution_count": 45,
   "metadata": {},
   "outputs": [
    {
     "name": "stdout",
     "output_type": "stream",
     "text": [
      "+----------------+-----+\n",
      "|            tile|count|\n",
      "+----------------+-----+\n",
      "|        blueCave|   28|\n",
      "|       blueCave2|    6|\n",
      "|        darkCave|   14|\n",
      "|        darkWood|   82|\n",
      "|        deepCave|   34|\n",
      "|         dryRock|   21|\n",
      "|greenCrystalCave|   15|\n",
      "|  snowyLightrock|    5|\n",
      "|         wetWood|    3|\n",
      "|      woodMarble|   23|\n",
      "| yellowToyCastle|   18|\n",
      "+----------------+-----+\n",
      "\n"
     ]
    }
   ],
   "source": [
    "@F.udf(\"string\")\n",
    "def getTS(x):\n",
    "    return json.loads(x)[\"tS\"]\n",
    "\n",
    "# find the counts of each referenced tile\n",
    "tiles = (\n",
    "    info\n",
    "    .select(getTS(\"info\").alias(\"tile\"))\n",
    "    .groupBy(\"tile\")\n",
    "    .count()\n",
    "    .orderBy(\"tile\")\n",
    ")\n",
    "tiles.cache()\n",
    "tiles.show()"
   ]
  },
  {
   "cell_type": "code",
   "execution_count": 54,
   "metadata": {},
   "outputs": [
    {
     "name": "stdout",
     "output_type": "stream",
     "text": [
      "+---+--------------+--------+-----+---+-------+----+-------+----+----+---+---+\n",
      "|  f|forbidFallDown|      l0|   l1| l2|     oS|   r|reactor|   x|   y|  z| zM|\n",
      "+---+--------------+--------+-----+---+-------+----+-------+----+----+---+---+\n",
      "|  0|          null|blueCave|  acc|  0|dungeon|null|   null| 272|-318|  4|209|\n",
      "|  0|          null|blueCave|  acc|  1|dungeon|null|   null| 244|-346|  3|209|\n",
      "|  0|          null|blueCave|  acc|  2|dungeon|null|   null| 296|-350|  3|209|\n",
      "|  0|          null|blueCave|  acc|  3|dungeon|null|   null| 316|-335|  5|209|\n",
      "|  0|          null|blueCave|  acc|  4|dungeon|null|   null| 331|-349|  3|209|\n",
      "|  0|          null|darkCave| foot|  4|dungeon|null|   null| 323|-211|  4| 89|\n",
      "|  0|          null|  house3|basic|  0|houseDW|null|   null| 112|-186|  2| 89|\n",
      "|  0|          null|darkCave|  acc|  9|dungeon|null|   null| 218|-187|  3| 89|\n",
      "|  0|          null|blueCave| foot|  1|dungeon|null|   null|1512|1643|  3|  3|\n",
      "|  0|          null|blueCave| foot|  1|dungeon|null|   null|1349|1636|  4|  3|\n",
      "|  0|          null|blueCave| foot|  0|dungeon|null|   null|1202|1641|  3|  3|\n",
      "|  0|          null|blueCave| foot|  2|dungeon|null|   null|1968|1743|  3| 44|\n",
      "|  0|          null|blueCave| foot|  7|dungeon|null|   null| 696|1670|  3| 37|\n",
      "|  0|          null|blueCave| foot|  0|dungeon|null|   null| 886|1781|  3| 37|\n",
      "|  0|          null|blueCave| foot|  1|dungeon|null|   null|1048|1775|  2| 37|\n",
      "|  0|          null|blueCave| foot|  2|dungeon|null|   null| 895|1342|  3| 69|\n",
      "|  0|          null|   steam|    1|  4|   trap|null|   null|1724|1962|  3| 19|\n",
      "|  0|          null|   steam|    1|  2|   trap|null|   null|1739|1825|  4| 19|\n",
      "|  0|          null|   steam|    1|  3|   trap|null|   null|1281|1880|  3|  3|\n",
      "|  0|          null|   steam|    1|  4|   trap|null|   null|1341|1879|  4|  3|\n",
      "+---+--------------+--------+-----+---+-------+----+-------+----+----+---+---+\n",
      "only showing top 20 rows\n",
      "\n"
     ]
    }
   ],
   "source": [
    "df.select(F.explode(\"payload.1.obj\")).select(\"col.item.*\").show()"
   ]
  },
  {
   "cell_type": "code",
   "execution_count": 60,
   "metadata": {},
   "outputs": [
    {
     "name": "stdout",
     "output_type": "stream",
     "text": [
      "+-------+--------+-------+-------+\n",
      "|    obj| level_0|level_1|level_2|\n",
      "+-------+--------+-------+-------+\n",
      "|dungeon|blueCave|    acc|      0|\n",
      "|dungeon|blueCave|    acc|      1|\n",
      "|dungeon|blueCave|    acc|      2|\n",
      "+-------+--------+-------+-------+\n",
      "only showing top 3 rows\n",
      "\n"
     ]
    }
   ],
   "source": [
    "obj = (\n",
    "    functools.reduce(\n",
    "        lambda a, b: a.union(b), \n",
    "        [\n",
    "            (\n",
    "                df\n",
    "                .select(F.explode(f\"payload.{i}.obj\").alias(\"obj\"))\n",
    "                .select(\"obj.item.*\")\n",
    "                .select(\n",
    "                    F.col(\"oS\").alias(\"obj\"), \n",
    "                    F.col(\"l0\").alias(\"level_0\"), \n",
    "                    F.col(\"l1\").alias(\"level_1\"),\n",
    "                    F.col(\"l2\").alias(\"level_2\")\n",
    "                )\n",
    "            )\n",
    "            for i in range(8)\n",
    "        ]\n",
    "    )\n",
    ")\n",
    "\n",
    "obj.show(n=3)"
   ]
  },
  {
   "cell_type": "code",
   "execution_count": 65,
   "metadata": {},
   "outputs": [
    {
     "name": "stdout",
     "output_type": "stream",
     "text": [
      "+---------+-----+\n",
      "|      obj|count|\n",
      "+---------+-----+\n",
      "| AmoriaGL|    1|\n",
      "|     acc1| 2393|\n",
      "|     acc2|  213|\n",
      "|     acc3|    6|\n",
      "|     acc4|   72|\n",
      "|     acc9|  344|\n",
      "|  connect| 4218|\n",
      "|     door|   37|\n",
      "|  dungeon| 2876|\n",
      "|    guide|   20|\n",
      "|    guild|   60|\n",
      "|    hotel|   80|\n",
      "|    house|   17|\n",
      "|  houseDW|   57|\n",
      "|  houseGS|    7|\n",
      "| houseSLR|    5|\n",
      "|signboard|  242|\n",
      "|     trap|  633|\n",
      "|  upgrade|  525|\n",
      "+---------+-----+\n",
      "\n"
     ]
    }
   ],
   "source": [
    "cols = [\"obj\", \"level_0\", \"level_1\", \"level_2\"]\n",
    "obj.groupBy(cols[:1]).count().orderBy(*cols[:1]).show(n=100)"
   ]
  }
 ],
 "metadata": {
  "kernelspec": {
   "display_name": "Python 3",
   "language": "python",
   "name": "python3"
  },
  "language_info": {
   "codemirror_mode": {
    "name": "ipython",
    "version": 3
   },
   "file_extension": ".py",
   "mimetype": "text/x-python",
   "name": "python",
   "nbconvert_exporter": "python",
   "pygments_lexer": "ipython3",
   "version": "3.8.6"
  }
 },
 "nbformat": 4,
 "nbformat_minor": 4
}

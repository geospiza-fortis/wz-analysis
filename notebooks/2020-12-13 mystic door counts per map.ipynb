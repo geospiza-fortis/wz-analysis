{
 "cells": [
  {
   "cell_type": "code",
   "execution_count": 20,
   "metadata": {},
   "outputs": [],
   "source": [
    "from pyspark.sql import functions as F, SparkSession\n",
    "import functools\n",
    "import json\n",
    "from pathlib import Path"
   ]
  },
  {
   "cell_type": "code",
   "execution_count": 12,
   "metadata": {},
   "outputs": [],
   "source": [
    "spark = SparkSession.builder.getOrCreate()\n",
    "wzpath = \"../../wz-testing-json\"\n",
    "df = spark.read.json(f\"{wzpath}/Map.wz/Map/*/*.json\", multiLine=True)"
   ]
  },
  {
   "cell_type": "code",
   "execution_count": 13,
   "metadata": {},
   "outputs": [
    {
     "data": {
      "text/plain": [
       "1438"
      ]
     },
     "execution_count": 13,
     "metadata": {},
     "output_type": "execute_result"
    }
   ],
   "source": [
    "df.count()"
   ]
  },
  {
   "cell_type": "markdown",
   "metadata": {},
   "source": [
    "* https://github.com/johncintron/nodin/blob/master/docs/map.md\n",
    "* https://github.com/johncintron/nodin/blob/master/docs/tile.md"
   ]
  },
  {
   "cell_type": "code",
   "execution_count": 14,
   "metadata": {},
   "outputs": [
    {
     "name": "stdout",
     "output_type": "stream",
     "text": [
      "+-------------+---------+-----+-----------+-----+--------+------+---+------+---------+------+----+----+\n",
      "|         name|returnMap|delay|hideTooltip|image|onlyOnce|    pn| pt|script|       tm|    tn|   x|   y|\n",
      "+-------------+---------+-----+-----------+-----+--------+------+---+------+---------+------+----+----+\n",
      "|105090000.img|105040300| null|       null| null|    null|    sp|  0|  null|999999999|      |-343| -81|\n",
      "|105090000.img|105040300| null|       null| null|    null|    sp|  0|  null|999999999|      |-277| -80|\n",
      "|105090000.img|105040300| null|       null| null|    null|    sp|  0|  null|999999999|      |-217| -80|\n",
      "|105090000.img|105040300| null|       null| null|    null|    sp|  0|  null|999999999|      |  -6| -51|\n",
      "|105090000.img|105040300| null|       null| null|    null|    sp|  0|  null|999999999|      |  38|  -4|\n",
      "|105090000.img|105040300| null|       null| null|    null|west00|  2|  null|105080000|east01|-324|  17|\n",
      "|105090000.img|105040300| null|       null| null|    null|east00|  2|  null|105090100|west00|2199|3369|\n",
      "|103000900.img|103000000| null|       null| null|    null|    sp|  0|  null|999999999|      |-569| 160|\n",
      "|103000900.img|103000000| null|       null| null|    null|  st00|  1|  null|999999999|      |-606| 194|\n",
      "|103000900.img|103000000| null|       null| null|    null| out02|  1|  null|999999999|      |1704|-829|\n",
      "+-------------+---------+-----+-----------+-----+--------+------+---+------+---------+------+----+----+\n",
      "only showing top 10 rows\n",
      "\n"
     ]
    }
   ],
   "source": [
    "portals = (\n",
    "    df.select(\"name\", \"payload.info.returnMap\", \"payload.portal\")\n",
    "    .withColumn(\"portal\", F.explode(\"portal\"))\n",
    "    .select(\"name\", \"returnMap\", \"portal.item.*\")\n",
    ")\n",
    "portals.show(n=10)"
   ]
  },
  {
   "cell_type": "code",
   "execution_count": 15,
   "metadata": {},
   "outputs": [
    {
     "name": "stdout",
     "output_type": "stream",
     "text": [
      "+-------------+-----+\n",
      "|         name|count|\n",
      "+-------------+-----+\n",
      "|104000000.img|    5|\n",
      "|103000000.img|    6|\n",
      "|200000000.img|    6|\n",
      "|800000000.img|    6|\n",
      "|240000000.img|    6|\n",
      "|000060000.img|    6|\n",
      "|221000000.img|    6|\n",
      "|540000000.img|    6|\n",
      "|105040300.img|    6|\n",
      "|001010000.img|    6|\n",
      "|801000000.img|    6|\n",
      "|222000000.img|    6|\n",
      "|260000000.img|    6|\n",
      "|110000000.img|    6|\n",
      "|251000000.img|    6|\n",
      "|680000000.img|    6|\n",
      "|100000000.img|    6|\n",
      "|220000000.img|    6|\n",
      "|541000000.img|    6|\n",
      "|101000000.img|    6|\n",
      "+-------------+-----+\n",
      "only showing top 20 rows\n",
      "\n"
     ]
    }
   ],
   "source": [
    "portals.where(\"pt = 6\").groupBy(\"name\").count().show()"
   ]
  },
  {
   "cell_type": "code",
   "execution_count": 18,
   "metadata": {},
   "outputs": [
    {
     "name": "stdout",
     "output_type": "stream",
     "text": [
      "+-------------+-----+\n",
      "|         name|count|\n",
      "+-------------+-----+\n",
      "|104000000.img|    5|\n",
      "|682000000.img|    3|\n",
      "+-------------+-----+\n",
      "\n"
     ]
    }
   ],
   "source": [
    "portals.where(\"pt = 6\").groupBy(\"name\").count().where(\"count < 6\").show()"
   ]
  },
  {
   "cell_type": "code",
   "execution_count": 54,
   "metadata": {},
   "outputs": [],
   "source": [
    "data = json.loads(Path(f\"{wzpath}/String.wz/Map.img.json\").read_text())\n",
    "res = []\n",
    "for k,v in data[\"payload\"].items():\n",
    "    for item in v:\n",
    "        res += [{\"index\": item[\"index\"], **item[\"item\"]}]"
   ]
  },
  {
   "cell_type": "code",
   "execution_count": 55,
   "metadata": {},
   "outputs": [
    {
     "name": "stdout",
     "output_type": "stream",
     "text": [
      "root\n",
      " |-- index: long (nullable = true)\n",
      " |-- mapName: string (nullable = true)\n",
      " |-- streetName: string (nullable = true)\n",
      " |-- mapDesc: string (nullable = true)\n",
      " |-- help0: string (nullable = true)\n",
      " |-- help1: string (nullable = true)\n",
      "\n"
     ]
    }
   ],
   "source": [
    "strings = spark.createDataFrame(res)\n",
    "strings.printSchema()"
   ]
  },
  {
   "cell_type": "code",
   "execution_count": 66,
   "metadata": {},
   "outputs": [
    {
     "name": "stdout",
     "output_type": "stream",
     "text": [
      "+---------+-----+-------------+\n",
      "|    index|count|      mapName|\n",
      "+---------+-----+-------------+\n",
      "|104000000|    5|  Lith Harbor|\n",
      "|682000000|    3|Haunted House|\n",
      "+---------+-----+-------------+\n",
      "\n"
     ]
    }
   ],
   "source": [
    "(\n",
    "    portals.where(\"pt = 6\")\n",
    "    .groupBy(\"name\").count()\n",
    "    .where(\"count < 6\")\n",
    "    .selectExpr(\"cast(split(name, '\\\\\\.')[0] as long) as index\", \"count\")\n",
    "    .join(strings.select(\"index\", \"mapName\"), on=\"index\")\n",
    ").show()"
   ]
  }
 ],
 "metadata": {
  "kernelspec": {
   "display_name": "Python 3",
   "language": "python",
   "name": "python3"
  },
  "language_info": {
   "codemirror_mode": {
    "name": "ipython",
    "version": 3
   },
   "file_extension": ".py",
   "mimetype": "text/x-python",
   "name": "python",
   "nbconvert_exporter": "python",
   "pygments_lexer": "ipython3",
   "version": "3.8.6"
  }
 },
 "nbformat": 4,
 "nbformat_minor": 4
}

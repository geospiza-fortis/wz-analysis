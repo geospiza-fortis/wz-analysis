{
 "cells": [
  {
   "cell_type": "markdown",
   "metadata": {},
   "source": [
    "# Exploration of WZ files"
   ]
  },
  {
   "cell_type": "code",
   "execution_count": 14,
   "metadata": {},
   "outputs": [],
   "source": [
    "wzpath = \"../../wzexports\""
   ]
  },
  {
   "cell_type": "code",
   "execution_count": 15,
   "metadata": {},
   "outputs": [
    {
     "data": {
      "text/plain": [
       "[WindowsPath('../../wzexports/Base.wz'),\n",
       " WindowsPath('../../wzexports/Character.wz'),\n",
       " WindowsPath('../../wzexports/Effect.wz'),\n",
       " WindowsPath('../../wzexports/Etc.wz'),\n",
       " WindowsPath('../../wzexports/Item.wz'),\n",
       " WindowsPath('../../wzexports/Map.wz'),\n",
       " WindowsPath('../../wzexports/Mob.wz'),\n",
       " WindowsPath('../../wzexports/Morph.wz'),\n",
       " WindowsPath('../../wzexports/Npc.wz'),\n",
       " WindowsPath('../../wzexports/Quest.wz'),\n",
       " WindowsPath('../../wzexports/Reactor.wz'),\n",
       " WindowsPath('../../wzexports/Skill.wz'),\n",
       " WindowsPath('../../wzexports/Sound.wz'),\n",
       " WindowsPath('../../wzexports/String.wz'),\n",
       " WindowsPath('../../wzexports/TamingMob.wz'),\n",
       " WindowsPath('../../wzexports/UI.wz')]"
      ]
     },
     "execution_count": 15,
     "metadata": {},
     "output_type": "execute_result"
    }
   ],
   "source": [
    "from pathlib import Path\n",
    "\n",
    "list(Path(wzpath).glob(\"*\"))"
   ]
  },
  {
   "cell_type": "code",
   "execution_count": 16,
   "metadata": {},
   "outputs": [],
   "source": [
    "from pyspark.sql import SparkSession, functions as F, types as T, Window\n",
    "\n",
    "spark = SparkSession.builder.getOrCreate()"
   ]
  },
  {
   "cell_type": "code",
   "execution_count": 17,
   "metadata": {},
   "outputs": [
    {
     "data": {
      "text/plain": [
       "[WindowsPath('../../wzexports/Map.wz/Map/Map0'),\n",
       " WindowsPath('../../wzexports/Map.wz/Map/Map1'),\n",
       " WindowsPath('../../wzexports/Map.wz/Map/Map2'),\n",
       " WindowsPath('../../wzexports/Map.wz/Map/Map5'),\n",
       " WindowsPath('../../wzexports/Map.wz/Map/Map6'),\n",
       " WindowsPath('../../wzexports/Map.wz/Map/Map8'),\n",
       " WindowsPath('../../wzexports/Map.wz/Map/Map9')]"
      ]
     },
     "execution_count": 17,
     "metadata": {},
     "output_type": "execute_result"
    }
   ],
   "source": [
    "[p for p in Path(wzpath).glob(\"Map.wz/*/*\") if \".xml\" not in p.name]"
   ]
  },
  {
   "cell_type": "code",
   "execution_count": 18,
   "metadata": {},
   "outputs": [
    {
     "name": "stdout",
     "output_type": "stream",
     "text": [
      "root\n",
      " |-- _name: string (nullable = true)\n",
      " |-- imgdir: array (nullable = true)\n",
      " |    |-- element: struct (containsNull = true)\n",
      " |    |    |-- _name: string (nullable = true)\n",
      " |    |    |-- _value_tag: string (nullable = true)\n",
      " |    |    |-- canvas: struct (nullable = true)\n",
      " |    |    |    |-- _basedata: string (nullable = true)\n",
      " |    |    |    |-- _height: long (nullable = true)\n",
      " |    |    |    |-- _name: string (nullable = true)\n",
      " |    |    |    |-- _value_tag: string (nullable = true)\n",
      " |    |    |    |-- _width: long (nullable = true)\n",
      " |    |    |-- float: struct (nullable = true)\n",
      " |    |    |    |-- _name: string (nullable = true)\n",
      " |    |    |    |-- _value: double (nullable = true)\n",
      " |    |    |    |-- _value_tag: string (nullable = true)\n",
      " |    |    |-- imgdir: array (nullable = true)\n",
      " |    |    |    |-- element: struct (containsNull = true)\n",
      " |    |    |    |    |-- _name: string (nullable = true)\n",
      " |    |    |    |    |-- _value_tag: string (nullable = true)\n",
      " |    |    |    |    |-- imgdir: array (nullable = true)\n",
      " |    |    |    |    |    |-- element: struct (containsNull = true)\n",
      " |    |    |    |    |    |    |-- _name: long (nullable = true)\n",
      " |    |    |    |    |    |    |-- imgdir: array (nullable = true)\n",
      " |    |    |    |    |    |    |    |-- element: struct (containsNull = true)\n",
      " |    |    |    |    |    |    |    |    |-- _name: long (nullable = true)\n",
      " |    |    |    |    |    |    |    |    |-- int: array (nullable = true)\n",
      " |    |    |    |    |    |    |    |    |    |-- element: struct (containsNull = true)\n",
      " |    |    |    |    |    |    |    |    |    |    |-- _name: string (nullable = true)\n",
      " |    |    |    |    |    |    |    |    |    |    |-- _value: long (nullable = true)\n",
      " |    |    |    |    |    |    |    |    |    |    |-- _value_tag: string (nullable = true)\n",
      " |    |    |    |    |    |    |-- int: array (nullable = true)\n",
      " |    |    |    |    |    |    |    |-- element: struct (containsNull = true)\n",
      " |    |    |    |    |    |    |    |    |-- _name: string (nullable = true)\n",
      " |    |    |    |    |    |    |    |    |-- _value: long (nullable = true)\n",
      " |    |    |    |    |    |    |    |    |-- _value_tag: string (nullable = true)\n",
      " |    |    |    |    |    |    |-- string: array (nullable = true)\n",
      " |    |    |    |    |    |    |    |-- element: struct (containsNull = true)\n",
      " |    |    |    |    |    |    |    |    |-- _name: string (nullable = true)\n",
      " |    |    |    |    |    |    |    |    |-- _value: string (nullable = true)\n",
      " |    |    |    |    |    |    |    |    |-- _value_tag: string (nullable = true)\n",
      " |    |    |    |    |-- int: array (nullable = true)\n",
      " |    |    |    |    |    |-- element: struct (containsNull = true)\n",
      " |    |    |    |    |    |    |-- _name: string (nullable = true)\n",
      " |    |    |    |    |    |    |-- _value: long (nullable = true)\n",
      " |    |    |    |    |    |    |-- _value_tag: string (nullable = true)\n",
      " |    |    |    |    |-- string: array (nullable = true)\n",
      " |    |    |    |    |    |-- element: struct (containsNull = true)\n",
      " |    |    |    |    |    |    |-- _name: string (nullable = true)\n",
      " |    |    |    |    |    |    |-- _value: string (nullable = true)\n",
      " |    |    |    |    |    |    |-- _value_tag: string (nullable = true)\n",
      " |    |    |-- int: array (nullable = true)\n",
      " |    |    |    |-- element: struct (containsNull = true)\n",
      " |    |    |    |    |-- _name: string (nullable = true)\n",
      " |    |    |    |    |-- _value: long (nullable = true)\n",
      " |    |    |    |    |-- _value_tag: string (nullable = true)\n",
      " |    |    |-- string: array (nullable = true)\n",
      " |    |    |    |-- element: struct (containsNull = true)\n",
      " |    |    |    |    |-- _name: string (nullable = true)\n",
      " |    |    |    |    |-- _value: string (nullable = true)\n",
      " |    |    |    |    |-- _value_tag: string (nullable = true)\n",
      " |    |    |-- vector: array (nullable = true)\n",
      " |    |    |    |-- element: struct (containsNull = true)\n",
      " |    |    |    |    |-- _name: long (nullable = true)\n",
      " |    |    |    |    |-- _value_tag: string (nullable = true)\n",
      " |    |    |    |    |-- _x: long (nullable = true)\n",
      " |    |    |    |    |-- _y: long (nullable = true)\n",
      "\n",
      "+-------------+--------------------------------------------------------------------------------+\n",
      "|        _name|                                                                          imgdir|\n",
      "+-------------+--------------------------------------------------------------------------------+\n",
      "|000000000.img|[[info,,, [mobRate, 1.0,],, [[version, 10,], [cloud, 0,], [town, 1,], [return...|\n",
      "|000000001.img|[[info,,, [mobRate, 1.0,],, [[version, 10,], [cloud, 0,], [town, 0,], [return...|\n",
      "|000000002.img|[[info,,, [mobRate, 0.4999999,],, [[version, 10,], [cloud, 0,], [town, 1,], [...|\n",
      "|000000003.img|[[info,,, [mobRate, 1.0,],, [[version, 10,], [cloud, 0,], [town, 1,], [return...|\n",
      "|000010000.img|[[back,,,, [[0,,, [[no, 0,], [x, 0,], [y, 0,], [rx, 0,], [ry, 0,], [type, 3,]...|\n",
      "+-------------+--------------------------------------------------------------------------------+\n",
      "only showing top 5 rows\n",
      "\n"
     ]
    }
   ],
   "source": [
    "df = spark.read.format(\"xml\").options(rowTag=\"imgdir\", valueTag=\"_value_tag\").load(f\"{wzpath}/Map.wz/Map/Map0/*.xml\")\n",
    "df.printSchema()\n",
    "df.show(n=5, truncate=80)"
   ]
  },
  {
   "cell_type": "markdown",
   "metadata": {},
   "source": [
    "## Getting useful information out of maps"
   ]
  },
  {
   "cell_type": "code",
   "execution_count": 19,
   "metadata": {},
   "outputs": [
    {
     "data": {
      "text/plain": [
       "'struct'"
      ]
     },
     "execution_count": 19,
     "metadata": {},
     "output_type": "execute_result"
    }
   ],
   "source": [
    "subdoc = (\n",
    "    df\n",
    "    .select(F.col(\"_name\").alias(\"img\"), F.explode(\"imgdir\").alias(\"payload\"))\n",
    "    .where(F.col(\"payload._name\") == \"info\")\n",
    ")\n",
    "subdoc.select(\"payload.*\").schema[\"float\"].dataType.typeName()"
   ]
  },
  {
   "cell_type": "code",
   "execution_count": 20,
   "metadata": {},
   "outputs": [],
   "source": [
    "def flatten_info(df, dtype):\n",
    "    q = df\n",
    "    key = \"img_name\"\n",
    "    subdoc = (\n",
    "        df\n",
    "        .select(F.col(\"_name\").alias(key), F.explode(\"imgdir\").alias(\"payload\"))\n",
    "        .where(F.col(\"payload._name\") == \"info\")\n",
    "        .select(key, f\"payload.{dtype}\")\n",
    "    )\n",
    "    is_array = subdoc.schema[dtype].dataType.typeName() == \"array\"\n",
    "    subdoc = subdoc.withColumn(\"data\", F.explode(dtype) if is_array else F.col(dtype))\n",
    "    return (\n",
    "        subdoc\n",
    "        .select(key, \"data.*\")\n",
    "        .groupBy(key)\n",
    "        .pivot(\"_name\")\n",
    "        .agg(F.max(\"_value\"))\n",
    "    )"
   ]
  },
  {
   "cell_type": "code",
   "execution_count": 21,
   "metadata": {},
   "outputs": [
    {
     "name": "stdout",
     "output_type": "stream",
     "text": [
      "+-------------+----------------+-------+---------------+\n",
      "|     img_name|             bgm|mapDesc|        mapMark|\n",
      "+-------------+----------------+-------+---------------+\n",
      "|000010000.img|Bgm00/FloralLife|   null|MushroomVillage|\n",
      "|001000001.img|Bgm00/RestNPeace|       |        Amherst|\n",
      "|001000004.img|Bgm00/RestNPeace|       |        Amherst|\n",
      "+-------------+----------------+-------+---------------+\n",
      "only showing top 3 rows\n",
      "\n"
     ]
    }
   ],
   "source": [
    "flatten_info(df, \"string\").show(n=3)"
   ]
  },
  {
   "cell_type": "code",
   "execution_count": 22,
   "metadata": {},
   "outputs": [
    {
     "name": "stdout",
     "output_type": "stream",
     "text": [
      "+-------------+-------+\n",
      "|     img_name|mobRate|\n",
      "+-------------+-------+\n",
      "|001000001.img|    1.3|\n",
      "|001020001.img|    1.0|\n",
      "|000010000.img|    1.0|\n",
      "+-------------+-------+\n",
      "only showing top 3 rows\n",
      "\n"
     ]
    }
   ],
   "source": [
    "flatten_info(df, \"float\").show(n=3)"
   ]
  },
  {
   "cell_type": "markdown",
   "metadata": {},
   "source": [
    "Can we be even more generic though?"
   ]
  },
  {
   "cell_type": "code",
   "execution_count": 23,
   "metadata": {},
   "outputs": [],
   "source": [
    "def flatten(df, path: list, dtype: str):\n",
    "    \"\"\"Flatten a document based on a path.\"\"\"\n",
    "    if len(path) < 2:\n",
    "        raise ValueError(\"path must be at least two elements long\")\n",
    "    sub = df\n",
    "    # walk the tree\n",
    "    for i in range(len(path) - 1):\n",
    "        key = path[i]\n",
    "        subkey = path[i + 1]\n",
    "        # TODO: test nested 3 deep\n",
    "        next_dtype = \"imgdir\" if i < len(path) else dtype\n",
    "        sub = (\n",
    "            sub.select(F.col(\"_name\").alias(key), F.explode(\"imgdir\").alias(\"_tmp\"))\n",
    "            .select(*path[:i+1], \"_tmp.*\")\n",
    "            .withColumn(subkey, F.col(\"_name\"))\n",
    "            .where(F.col(subkey) == subkey)\n",
    "            .drop(\"_name\", \"_value_tag\")\n",
    "        )\n",
    "        sub = sub.select(*(path[:i+2]+[c for c in sub.columns if c not in path]))\n",
    "    if dtype == \"imgdir\":\n",
    "        return sub.select(*path, dtype)\n",
    "    is_array = sub.schema[dtype].dataType.typeName() == \"array\"\n",
    "    subdoc = sub.withColumn(\"_tmp\", F.explode(dtype) if is_array else F.col(dtype))\n",
    "    return subdoc.select(*path, \"_tmp.*\").groupBy(key).pivot(\"_name\").agg(F.max(\"_value\"))"
   ]
  },
  {
   "cell_type": "code",
   "execution_count": 24,
   "metadata": {},
   "outputs": [
    {
     "name": "stdout",
     "output_type": "stream",
     "text": [
      "+-------------+-------+\n",
      "|         root|mobRate|\n",
      "+-------------+-------+\n",
      "|001000001.img|    1.3|\n",
      "|001020001.img|    1.0|\n",
      "|000010000.img|    1.0|\n",
      "+-------------+-------+\n",
      "only showing top 3 rows\n",
      "\n"
     ]
    }
   ],
   "source": [
    "flatten(df, [\"root\", \"info\"], \"float\").show(n=3)"
   ]
  },
  {
   "cell_type": "code",
   "execution_count": 25,
   "metadata": {},
   "outputs": [
    {
     "name": "stdout",
     "output_type": "stream",
     "text": [
      "+-------------+-------+-------+------+---+-----+\n",
      "|         root|centerX|centerY|height|mag|width|\n",
      "+-------------+-------+-------+------+---+-----+\n",
      "|001000001.img|    653|    752|  1696|  4| 2096|\n",
      "|001000004.img|   -672|    717|  1511|  4| 1721|\n",
      "|001020001.img|    526|    420|   974|  4| 1924|\n",
      "+-------------+-------+-------+------+---+-----+\n",
      "only showing top 3 rows\n",
      "\n"
     ]
    }
   ],
   "source": [
    "flatten(df, [\"root\", \"miniMap\"], \"int\").show(n=3)"
   ]
  },
  {
   "cell_type": "markdown",
   "metadata": {},
   "source": [
    "### Extract the links between maps"
   ]
  },
  {
   "cell_type": "code",
   "execution_count": 27,
   "metadata": {},
   "outputs": [
    {
     "name": "stdout",
     "output_type": "stream",
     "text": [
      "+---------+--------------------+\n",
      "|      src|                 dst|\n",
      "+---------+--------------------+\n",
      "|000000002|      [999999999, 1]|\n",
      "|000040000|[999999999, 99999...|\n",
      "|000040001|[999999999, 99999...|\n",
      "|001000003|[999999999, 99999...|\n",
      "|001010001|[999999999, 1010000]|\n",
      "|001010004|[999999999, 99999...|\n",
      "|000060001|  [999999999, 60000]|\n",
      "|001000006|[999999999, 99999...|\n",
      "|000020000|[999999999, 99999...|\n",
      "|000060000|[999999999, 99999...|\n",
      "|001000005|[999999999, 99999...|\n",
      "|000000000|[999999999, 99999...|\n",
      "|000040002|[999999999, 99999...|\n",
      "|001010000|[999999999, 10000...|\n",
      "|001010002|[999999999, 10100...|\n",
      "|001020001|[999999999, 99999...|\n",
      "|000000003|[999999999, 99999...|\n",
      "|000030000|[999999999, 99999...|\n",
      "|001000000|[999999999, 50000...|\n",
      "|000010000|[999999999, 99999...|\n",
      "+---------+--------------------+\n",
      "only showing top 20 rows\n",
      "\n"
     ]
    }
   ],
   "source": [
    "def get_portals(df):\n",
    "    k = [\"root\", \"portal\"]\n",
    "    q = (\n",
    "        flatten(df, k, \"imgdir\")\n",
    "        .select(*k, F.explode(\"imgdir\").alias(\"_tmp\"))\n",
    "        .select(*k, F.col(\"_tmp._name\").alias(\"i\"), \"_tmp.*\")\n",
    "        .drop(\"_name\", \"_value_tag\")\n",
    "        .select(*k, \"i\", F.explode(\"int\").alias(\"_tmp\"))\n",
    "        .where(F.col(\"_tmp._name\") == \"tm\")\n",
    "        # what is tm?\n",
    "        .select(\n",
    "            *k,\n",
    "            F.collect_list(\"_tmp._value\")\n",
    "            .over(Window.partitionBy(*k).orderBy(\"i\"))\n",
    "            .alias(\"tm\")\n",
    "        )\n",
    "        .groupby(*k)\n",
    "        .agg(F.max(\"tm\").alias(\"tm\"))\n",
    "        .select(F.split(F.col(\"root\"), \"\\.\")[0].alias(\"src\"), F.col(\"tm\").alias(\"dst\"))\n",
    "    )\n",
    "    return q\n",
    "\n",
    "get_portals(df).show()"
   ]
  }
 ],
 "metadata": {
  "kernelspec": {
   "display_name": "Python 3",
   "language": "python",
   "name": "python3"
  },
  "language_info": {
   "codemirror_mode": {
    "name": "ipython",
    "version": 3
   },
   "file_extension": ".py",
   "mimetype": "text/x-python",
   "name": "python",
   "nbconvert_exporter": "python",
   "pygments_lexer": "ipython3",
   "version": "3.8.6"
  }
 },
 "nbformat": 4,
 "nbformat_minor": 2
}
